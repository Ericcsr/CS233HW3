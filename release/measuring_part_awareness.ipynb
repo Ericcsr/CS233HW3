{
 "cells": [
  {
   "cell_type": "code",
   "execution_count": 14,
   "metadata": {},
   "outputs": [
    {
     "name": "stdout",
     "output_type": "stream",
     "text": [
      "484\n",
      "c59cdd1537bd75ddd0818327fc390a5__2__\n",
      "['golden_part_dist', 'golden_names']\n",
      "(484, 484)\n",
      "load my data\n",
      "Cumulative part-aware distance:  373.9756412655115\n",
      "Mean euclidean distance:  1.1785803190867106\n",
      "Mean number of common parts:  3.2066666666666666\n"
     ]
    }
   ],
   "source": [
    "import numpy as np\n",
    "import os.path as osp\n",
    "from collections import defaultdict\n",
    "from sklearn.neighbors import NearestNeighbors  # Students: you can use this implementation to find the \n",
    "                                                # Nearest-Neigbors\n",
    "\n",
    "# Students: Default location of saved latent codes per last cell of main.ipynb, change appropriately if\n",
    "# you saved them in another way.\n",
    "vanilla_ae_emb_file = 'cs233_gtda_hw4/data/out/pc_ae_latent_codes.npz'\n",
    "part_ae_emb_file = 'cs233_gtda_hw4/data/out/part_pc_ae_latent_codes.npz'\n",
    "my_ae_emb_file = 'cs233_gtda_hw4/data/out/part_pc_ae_my_latent_codes_my.npz'\n",
    "\n",
    "# Load golden distances (pairwise matrix, or corresponding model/part names in golden_names)\n",
    "golden_part_dist_file = 'cs233_gtda_hw4/data/golden_dists.npz'\n",
    "golden_data = np.load(golden_part_dist_file, allow_pickle=True)\n",
    "golden_part_dist = golden_data['golden_part_dist']\n",
    "golden_names = golden_data['golden_names']\n",
    "print(len(golden_names))  # models-name/part combinations\n",
    "print(golden_names[0])\n",
    "print(golden_data.files)\n",
    "print(golden_part_dist.shape)\n",
    "# To load vanilla-AE-embeddings (if False will open those of the 2-branch AE).\n",
    "mode = \"my\" # or False\n",
    "\n",
    "# Load/organize golden part-aware distances.\n",
    "sn_id_to_parts = defaultdict(list)\n",
    "id_to_part_loc = dict()\n",
    "\n",
    "for i, name in enumerate(golden_names):\n",
    "    # Extract shape-net model ids of golden, map them to their parts.\n",
    "    sn_id, _, part_id, _, _ = name.split('_')\n",
    "    sn_id_to_parts[sn_id].append(part_id)\n",
    "    \n",
    "    # Map shape-net model id and part_id to location in distance matrix, (the order is the same).\n",
    "    id_to_part_loc[(sn_id, part_id)] = i\n",
    "\n",
    "if mode == \"vanilla\":\n",
    "    in_d = np.load(vanilla_ae_emb_file)    # Students: assuming you used the numpy.savez\n",
    "elif mode == \"part\":\n",
    "    in_d = np.load(part_ae_emb_file)\n",
    "else:\n",
    "    print(\"load my data\")\n",
    "    in_d = np.load(my_ae_emb_file)\n",
    "        \n",
    "latent_codes = in_d['latent_codes']\n",
    "test_names = in_d['test_names']\n",
    "\n",
    "# TODO: Use golden distances and matchings to solve question (g)\n",
    "cum_part_dists = 0.0\n",
    "common_parts_num = []\n",
    "cum_euclidean_dists = 0.0\n",
    "for i, sn_name in enumerate(test_names):\n",
    "    parts_of_model = set(sn_id_to_parts[sn_name])\n",
    "    # minimum euclidean distance between latent_codes[i] and any other latent code\n",
    "    other_latent_code = latent_codes.copy()\n",
    "    other_latent_code[i] = np.inf\n",
    "    dist = np.linalg.norm(latent_codes[i] - other_latent_code, axis=1)\n",
    "    matched_neighbor = test_names[np.argmin(dist)]\n",
    "    parts_of_neighbor = set(sn_id_to_parts[matched_neighbor])\n",
    "    # compute the requested distances.\n",
    "    # Use id_to_part_loc for each model/part combination\n",
    "    part_common = list(parts_of_model.intersection(parts_of_neighbor))\n",
    "    part_dist = 0\n",
    "    for part in part_common:\n",
    "        loc1 = id_to_part_loc[(sn_name, part)]\n",
    "        loc2 = id_to_part_loc[(matched_neighbor, part)]\n",
    "        part_dist += golden_part_dist[loc1, loc2]\n",
    "    unique_parts_A = list(parts_of_model - parts_of_model.intersection(parts_of_neighbor))\n",
    "    for part in unique_parts_A:\n",
    "        loc1 = id_to_part_loc[(sn_name, part)]\n",
    "        neighbor_part_dists = []\n",
    "        for part_u in list(parts_of_neighbor):\n",
    "            loc2 = id_to_part_loc[(matched_neighbor, part_u)]\n",
    "            neighbor_part_dists.append(golden_part_dist[loc1, loc2])\n",
    "        part_dist += max(neighbor_part_dists)\n",
    "    cum_part_dists += part_dist\n",
    "    common_parts_num.append(len(part_common))\n",
    "    cum_euclidean_dists += dist[np.argmin(dist)]\n",
    "\n",
    "print(\"Cumulative part-aware distance: \", cum_part_dists)\n",
    "print(\"Mean euclidean distance: \", cum_euclidean_dists/len(test_names))\n",
    "print(\"Mean number of common parts: \", np.mean(common_parts_num))\n"
   ]
  },
  {
   "cell_type": "markdown",
   "metadata": {},
   "source": [
    "## With part-aware embedding\n",
    "- Cumulative part-aware distance:  450.45022116601467\n",
    "- Mean euclidean distance:  0.3626336590449015\n",
    "- Mean number of common parts:  3.1866666666666665"
   ]
  },
  {
   "cell_type": "markdown",
   "metadata": {},
   "source": [
    "## Without part-aware embedding\n",
    "- Cumulative part-aware distance:  477.95636761188507\n",
    "- Mean euclidean distance:  0.19489020749926567\n",
    "- Mean number of common parts:  3.1333333333333333"
   ]
  },
  {
   "cell_type": "markdown",
   "metadata": {},
   "source": [
    "## My embedding"
   ]
  },
  {
   "cell_type": "markdown",
   "metadata": {},
   "source": [
    "- Cumulative part-aware distance:  373.9756412655115\n",
    "- Mean euclidean distance:  1.1785803190867106\n",
    "- Mean number of common parts:  3.2066666666666666"
   ]
  }
 ],
 "metadata": {
  "kernelspec": {
   "display_name": "Python 3 (ipykernel)",
   "language": "python",
   "name": "python3"
  },
  "language_info": {
   "codemirror_mode": {
    "name": "ipython",
    "version": 3
   },
   "file_extension": ".py",
   "mimetype": "text/x-python",
   "name": "python",
   "nbconvert_exporter": "python",
   "pygments_lexer": "ipython3",
   "version": "3.8.16"
  }
 },
 "nbformat": 4,
 "nbformat_minor": 2
}
