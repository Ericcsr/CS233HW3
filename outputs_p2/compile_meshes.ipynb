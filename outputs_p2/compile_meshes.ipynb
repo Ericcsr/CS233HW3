{
 "cells": [
  {
   "cell_type": "code",
   "execution_count": 7,
   "metadata": {},
   "outputs": [],
   "source": [
    "import os\n",
    "from PIL import Image\n",
    "\n",
    "numbers = ['02', '04', '05', '06', '10', '11', '24', '26', '36', '41', '42', '49', '56', '58', '61', '64', '65']\n",
    "\n",
    "# # Combine mesh and graph jpgs horizontally\n",
    "current_dir = os.path.dirname(os.path.abspath(''))\n",
    "\n",
    "for meshNum in numbers:\n",
    "    mesh = Image.open(f'mesh0{meshNum}.png')\n",
    "    graph = Image.open(f'.\\pairwise_matching\\{meshNum}.png')\n",
    "\n",
    "    mesh_width, mesh_height = mesh.size\n",
    "    graph_width, graph_height = graph.size\n",
    "\n",
    "    new_width = mesh_width + graph_width\n",
    "    new_height = max(mesh_height, graph_height)\n",
    "\n",
    "    new_image = Image.new('RGB', (new_width, new_height))\n",
    "\n",
    "    new_image.paste(mesh, (0, 0))\n",
    "    new_image.paste(graph, (mesh_width, 0))\n",
    "\n",
    "\n",
    "    new_image.save(f'combined_mesh{meshNum}.jpg', title = f'Mesh{meshNum}')\n"
   ]
  },
  {
   "cell_type": "code",
   "execution_count": 9,
   "metadata": {},
   "outputs": [],
   "source": [
    "\n",
    "# Combine all combined jpgs vertically and title each victoriaNum\n",
    "# numbers = ['02', '04', '05', '06', '10', '11', '24', '26'] \n",
    "numbers = ['36', '41', '42', '49', '56', '58', '61', '64', '65']\n",
    "\n",
    "combined_images = [Image.open(f'combined_mesh{meshNum}.jpg') for meshNum in numbers]\n",
    "\n",
    "widths, heights = zip(*(i.size for i in combined_images))\n",
    "\n",
    "total_width = max(widths)\n",
    "total_height = sum(heights)\n",
    "\n",
    "new_image = Image.new('RGB', (total_width, total_height))\n",
    "\n",
    "y_offset = 0\n",
    "for i, image in enumerate(combined_images):\n",
    "    new_image.paste(image, (0, y_offset))\n",
    "    y_offset += image.size[1]\n",
    "\n",
    "\n",
    "new_image.save('combined_all_meshes_pairwisematching2.jpg')"
   ]
  }
 ],
 "metadata": {
  "kernelspec": {
   "display_name": "cs233hw2",
   "language": "python",
   "name": "python3"
  },
  "language_info": {
   "codemirror_mode": {
    "name": "ipython",
    "version": 3
   },
   "file_extension": ".py",
   "mimetype": "text/x-python",
   "name": "python",
   "nbconvert_exporter": "python",
   "pygments_lexer": "ipython3",
   "version": "3.11.7"
  }
 },
 "nbformat": 4,
 "nbformat_minor": 2
}
